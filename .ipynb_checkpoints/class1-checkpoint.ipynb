{
 "cells": [
  {
   "cell_type": "code",
   "execution_count": 7,
   "id": "25e7b50a",
   "metadata": {},
   "outputs": [],
   "source": [
    "import pandas as pd"
   ]
  },
  {
   "cell_type": "code",
   "execution_count": 9,
   "id": "972a5ed5",
   "metadata": {},
   "outputs": [],
   "source": [
    "naranjas = pd.Series([4,9,2,6,10,200])\n",
    "manzanas = pd.Series([60,22,1,79,2,8])"
   ]
  },
  {
   "cell_type": "code",
   "execution_count": 10,
   "id": "4f56a143",
   "metadata": {},
   "outputs": [
    {
     "name": "stdout",
     "output_type": "stream",
     "text": [
      "0      4\n",
      "1      9\n",
      "2      2\n",
      "3      6\n",
      "4     10\n",
      "5    200\n",
      "dtype: int64\n",
      "0    60\n",
      "1    22\n",
      "2     1\n",
      "3    79\n",
      "4     2\n",
      "5     8\n",
      "dtype: int64\n"
     ]
    }
   ],
   "source": [
    "print(naranjas)\n",
    "print(manzanas )"
   ]
  },
  {
   "cell_type": "code",
   "execution_count": null,
   "id": "cb0afb39",
   "metadata": {},
   "outputs": [],
   "source": []
  }
 ],
 "metadata": {
  "kernelspec": {
   "display_name": "Python 3 (ipykernel)",
   "language": "python",
   "name": "python3"
  },
  "language_info": {
   "codemirror_mode": {
    "name": "ipython",
    "version": 3
   },
   "file_extension": ".py",
   "mimetype": "text/x-python",
   "name": "python",
   "nbconvert_exporter": "python",
   "pygments_lexer": "ipython3",
   "version": "3.11.5"
  }
 },
 "nbformat": 4,
 "nbformat_minor": 5
}
