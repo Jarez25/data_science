{
 "cells": [
  {
   "cell_type": "code",
   "execution_count": 3,
   "id": "7351afbf",
   "metadata": {},
   "outputs": [],
   "source": [
    "import pandas as pd"
   ]
  },
  {
   "cell_type": "code",
   "execution_count": 12,
   "id": "63ebc77d",
   "metadata": {},
   "outputs": [],
   "source": [
    "colores = pd.Series(['rojo','azul','amarrillo', 'verde', 'morado'])"
   ]
  },
  {
   "cell_type": "code",
   "execution_count": 9,
   "id": "731e3636",
   "metadata": {},
   "outputs": [
    {
     "name": "stdout",
     "output_type": "stream",
     "text": [
      "0         rojo\n",
      "1         azul\n",
      "2    amarrillo\n",
      "3        verde\n",
      "4       morado\n",
      "dtype: object\n"
     ]
    }
   ],
   "source": [
    "print(colores)"
   ]
  },
  {
   "cell_type": "code",
   "execution_count": 16,
   "id": "29540694",
   "metadata": {},
   "outputs": [
    {
     "data": {
      "text/plain": [
       "0         rojo\n",
       "1         azul\n",
       "2    amarrillo\n",
       "3        verde\n",
       "dtype: object"
      ]
     },
     "execution_count": 16,
     "metadata": {},
     "output_type": "execute_result"
    }
   ],
   "source": [
    "colores[0:4]"
   ]
  }
 ],
 "metadata": {
  "kernelspec": {
   "display_name": "Python 3 (ipykernel)",
   "language": "python",
   "name": "python3"
  },
  "language_info": {
   "codemirror_mode": {
    "name": "ipython",
    "version": 3
   },
   "file_extension": ".py",
   "mimetype": "text/x-python",
   "name": "python",
   "nbconvert_exporter": "python",
   "pygments_lexer": "ipython3",
   "version": "3.11.5"
  }
 },
 "nbformat": 4,
 "nbformat_minor": 5
}
