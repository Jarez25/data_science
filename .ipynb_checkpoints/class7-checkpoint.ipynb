{
 "cells": [
  {
   "cell_type": "code",
   "execution_count": 1,
   "id": "6823d20c",
   "metadata": {},
   "outputs": [],
   "source": [
    "import pandas as pd"
   ]
  },
  {
   "cell_type": "code",
   "execution_count": 3,
   "id": "e1adfa95",
   "metadata": {},
   "outputs": [],
   "source": [
    "df = pd.DataFrame([['Maria', 27],['David',34],['Ana',18],['Jose',17]],\n",
    "                 colums = ['NOMBRE', 'EDAD'])"
   ]
  }
 ],
 "metadata": {
  "kernelspec": {
   "display_name": "Python 3 (ipykernel)",
   "language": "python",
   "name": "python3"
  },
  "language_info": {
   "codemirror_mode": {
    "name": "ipython",
    "version": 3
   },
   "file_extension": ".py",
   "mimetype": "text/x-python",
   "name": "python",
   "nbconvert_exporter": "python",
   "pygments_lexer": "ipython3",
   "version": "3.11.5"
  }
 },
 "nbformat": 4,
 "nbformat_minor": 5
}
