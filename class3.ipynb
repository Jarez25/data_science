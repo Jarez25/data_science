{
 "cells": [
  {
   "cell_type": "code",
   "execution_count": 1,
   "id": "832b8d46",
   "metadata": {},
   "outputs": [],
   "source": [
    "import pandas as pd"
   ]
  },
  {
   "cell_type": "code",
   "execution_count": 2,
   "id": "e8413b44",
   "metadata": {},
   "outputs": [],
   "source": [
    "materias = pd.Series({'Matematicas':60, 'Fisica':100, 'Quimica':78})"
   ]
  },
  {
   "cell_type": "code",
   "execution_count": 3,
   "id": "3cd4076a",
   "metadata": {},
   "outputs": [
    {
     "name": "stdout",
     "output_type": "stream",
     "text": [
      "Matematicas     60\n",
      "Fisica         100\n",
      "Quimica         78\n",
      "dtype: int64\n"
     ]
    }
   ],
   "source": [
    "print(materias)"
   ]
  },
  {
   "cell_type": "code",
   "execution_count": 13,
   "id": "6917dacc",
   "metadata": {},
   "outputs": [
    {
     "data": {
      "text/plain": [
       "100"
      ]
     },
     "execution_count": 13,
     "metadata": {},
     "output_type": "execute_result"
    }
   ],
   "source": [
    "materias['Fisica']"
   ]
  },
  {
   "cell_type": "code",
   "execution_count": 16,
   "id": "45faa659",
   "metadata": {},
   "outputs": [
    {
     "data": {
      "text/plain": [
       "Fisica         100\n",
       "Matematicas     60\n",
       "dtype: int64"
      ]
     },
     "execution_count": 16,
     "metadata": {},
     "output_type": "execute_result"
    }
   ],
   "source": [
    "materias[['Fisica','Matematicas']]"
   ]
  },
  {
   "cell_type": "code",
   "execution_count": 5,
   "id": "ed65f8f8",
   "metadata": {},
   "outputs": [],
   "source": [
    "numeros = pd.Series([1,2,3,4,5,6,7,8])"
   ]
  },
  {
   "cell_type": "code",
   "execution_count": 11,
   "id": "b5db77fa",
   "metadata": {},
   "outputs": [
    {
     "data": {
      "text/plain": [
       "dtype('int64')"
      ]
     },
     "execution_count": 11,
     "metadata": {},
     "output_type": "execute_result"
    }
   ],
   "source": [
    "numeros.size #devuelve el numero de elementos\n",
    "numeros.index # devuelve una lista con las filas del dataFrame\n",
    "numeros.dtype #develve el tipo de datos de elementos de la serie"
   ]
  }
 ],
 "metadata": {
  "kernelspec": {
   "display_name": "Python 3 (ipykernel)",
   "language": "python",
   "name": "python3"
  },
  "language_info": {
   "codemirror_mode": {
    "name": "ipython",
    "version": 3
   },
   "file_extension": ".py",
   "mimetype": "text/x-python",
   "name": "python",
   "nbconvert_exporter": "python",
   "pygments_lexer": "ipython3",
   "version": "3.11.5"
  }
 },
 "nbformat": 4,
 "nbformat_minor": 5
}
