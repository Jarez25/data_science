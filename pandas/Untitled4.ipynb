{
 "cells": [
  {
   "cell_type": "code",
   "execution_count": 2,
   "id": "28f64a93",
   "metadata": {},
   "outputs": [],
   "source": [
    "import pandas as pd"
   ]
  },
  {
   "cell_type": "code",
   "execution_count": 3,
   "id": "fc548bbe",
   "metadata": {},
   "outputs": [],
   "source": [
    "serie = pd.Series({'Matematica':8, 'Economia':6, 'Programacion':10,\n",
    "                  'Fisica':5})"
   ]
  },
  {
   "cell_type": "code",
   "execution_count": 9,
   "id": "794c09c4",
   "metadata": {},
   "outputs": [
    {
     "name": "stdout",
     "output_type": "stream",
     "text": [
      "Matematica       8\n",
      "Economia         6\n",
      "Programacion    10\n",
      "dtype: int64\n",
      "Fisica           5\n",
      "Economia         6\n",
      "Matematica       8\n",
      "Programacion    10\n",
      "dtype: int64\n",
      "Economia         6\n",
      "Fisica           5\n",
      "Matematica       8\n",
      "Programacion    10\n",
      "dtype: int64\n"
     ]
    }
   ],
   "source": [
    "print(serie[serie >= 6])\n",
    "print(serie.sort_values())\n",
    "print(serie.sort_index(ascending=True))"
   ]
  }
 ],
 "metadata": {
  "kernelspec": {
   "display_name": "Python 3 (ipykernel)",
   "language": "python",
   "name": "python3"
  },
  "language_info": {
   "codemirror_mode": {
    "name": "ipython",
    "version": 3
   },
   "file_extension": ".py",
   "mimetype": "text/x-python",
   "name": "python",
   "nbconvert_exporter": "python",
   "pygments_lexer": "ipython3",
   "version": "3.11.5"
  }
 },
 "nbformat": 4,
 "nbformat_minor": 5
}
