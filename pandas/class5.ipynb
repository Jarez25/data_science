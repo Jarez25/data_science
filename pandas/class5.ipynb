{
 "cells": [
  {
   "cell_type": "code",
   "execution_count": 5,
   "id": "9dbde551",
   "metadata": {},
   "outputs": [],
   "source": [
    "import pandas as pd"
   ]
  },
  {
   "cell_type": "code",
   "execution_count": 1,
   "id": "711a8e0c",
   "metadata": {},
   "outputs": [],
   "source": [
    "data = {'NOMBRE':['jairo','jose','jarez','parrotset'], \n",
    "        'CLASE': ['paladin', 'nigromante', 'aventurero', 'pirata'],\n",
    "       'NIVEL': [45,22,13,44]}"
   ]
  },
  {
   "cell_type": "code",
   "execution_count": 3,
   "id": "76ee6de1",
   "metadata": {},
   "outputs": [],
   "source": [
    "jugadores = pd.DataFrame(data)"
   ]
  },
  {
   "cell_type": "code",
   "execution_count": 4,
   "id": "e3158020",
   "metadata": {},
   "outputs": [
    {
     "name": "stdout",
     "output_type": "stream",
     "text": [
      "      NOMBRE       CLASE  NIVEL\n",
      "0      jairo     paladin     45\n",
      "1       jose  nigromante     22\n",
      "2      jarez  aventurero     13\n",
      "3  parrotset      pirata     44\n"
     ]
    }
   ],
   "source": [
    "print(jugadores)"
   ]
  }
 ],
 "metadata": {
  "kernelspec": {
   "display_name": "Python 3 (ipykernel)",
   "language": "python",
   "name": "python3"
  },
  "language_info": {
   "codemirror_mode": {
    "name": "ipython",
    "version": 3
   },
   "file_extension": ".py",
   "mimetype": "text/x-python",
   "name": "python",
   "nbconvert_exporter": "python",
   "pygments_lexer": "ipython3",
   "version": "3.11.5"
  }
 },
 "nbformat": 4,
 "nbformat_minor": 5
}
