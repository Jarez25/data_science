{
 "cells": [
  {
   "cell_type": "code",
   "execution_count": 7,
   "id": "20848f88",
   "metadata": {},
   "outputs": [],
   "source": [
    "import pandas as pd\n",
    "import numpy as np"
   ]
  },
  {
   "cell_type": "code",
   "execution_count": 5,
   "id": "0b4b9d6c",
   "metadata": {},
   "outputs": [],
   "source": [
    "df = pd.DataFrame([['Maria', 27],['David',34],['Ana',18],['Jose',17]],\n",
    "                 columns = ['NOMBRE', 'EDAD'])"
   ]
  },
  {
   "cell_type": "code",
   "execution_count": 9,
   "id": "4cfbcdc6",
   "metadata": {},
   "outputs": [],
   "source": [
    "df2 = pd.DataFrame(np.random.randn(4,3), columns=['a','b','c'])"
   ]
  },
  {
   "cell_type": "code",
   "execution_count": 10,
   "id": "8280b7c5",
   "metadata": {},
   "outputs": [
    {
     "name": "stdout",
     "output_type": "stream",
     "text": [
      "          a         b         c\n",
      "0 -1.775664  0.028731  0.650764\n",
      "1 -0.925402 -0.470728 -2.276725\n",
      "2  1.546045 -0.069538  0.472730\n",
      "3 -0.304216  1.267634 -1.512267\n"
     ]
    }
   ],
   "source": [
    "#print(df)\n",
    "print(df2)"
   ]
  },
  {
   "cell_type": "code",
   "execution_count": null,
   "id": "b006a412",
   "metadata": {},
   "outputs": [],
   "source": []
  }
 ],
 "metadata": {
  "kernelspec": {
   "display_name": "Python 3 (ipykernel)",
   "language": "python",
   "name": "python3"
  },
  "language_info": {
   "codemirror_mode": {
    "name": "ipython",
    "version": 3
   },
   "file_extension": ".py",
   "mimetype": "text/x-python",
   "name": "python",
   "nbconvert_exporter": "python",
   "pygments_lexer": "ipython3",
   "version": "3.11.5"
  }
 },
 "nbformat": 4,
 "nbformat_minor": 5
}
