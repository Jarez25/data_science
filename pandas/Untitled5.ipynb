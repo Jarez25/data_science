{
 "cells": [
  {
   "cell_type": "code",
   "execution_count": 2,
   "id": "362634b3",
   "metadata": {},
   "outputs": [],
   "source": [
    "import pandas as pd"
   ]
  },
  {
   "cell_type": "code",
   "execution_count": 6,
   "id": "436f207d",
   "metadata": {},
   "outputs": [],
   "source": [
    "data = 5"
   ]
  },
  {
   "cell_type": "code",
   "execution_count": 8,
   "id": "3e6a377e",
   "metadata": {},
   "outputs": [],
   "source": [
    "dataList = ['Messi', 'Cristiano', 'Benzema']"
   ]
  },
  {
   "cell_type": "code",
   "execution_count": 9,
   "id": "fb36a38a",
   "metadata": {},
   "outputs": [],
   "source": [
    "serie = pd.Series(data,index=[0,1,2,3,4,5])\n",
    "indice = ['PSG', 'Manchester', 'Real Madrid']"
   ]
  },
  {
   "cell_type": "code",
   "execution_count": 10,
   "id": "a4b24e4a",
   "metadata": {},
   "outputs": [],
   "source": [
    "futbol = pd.Series(index=indice, data = dataList)"
   ]
  },
  {
   "cell_type": "code",
   "execution_count": 11,
   "id": "77a1cfcc",
   "metadata": {},
   "outputs": [
    {
     "name": "stdout",
     "output_type": "stream",
     "text": [
      "0    5\n",
      "1    5\n",
      "2    5\n",
      "3    5\n",
      "4    5\n",
      "5    5\n",
      "dtype: int64\n"
     ]
    }
   ],
   "source": [
    "print(serie)"
   ]
  }
 ],
 "metadata": {
  "kernelspec": {
   "display_name": "Python 3 (ipykernel)",
   "language": "python",
   "name": "python3"
  },
  "language_info": {
   "codemirror_mode": {
    "name": "ipython",
    "version": 3
   },
   "file_extension": ".py",
   "mimetype": "text/x-python",
   "name": "python",
   "nbconvert_exporter": "python",
   "pygments_lexer": "ipython3",
   "version": "3.11.5"
  }
 },
 "nbformat": 4,
 "nbformat_minor": 5
}
