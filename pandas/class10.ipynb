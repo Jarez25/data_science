{
 "cells": [
  {
   "cell_type": "code",
   "execution_count": 2,
   "id": "b0b300a5",
   "metadata": {},
   "outputs": [],
   "source": [
    "import pandas as pd"
   ]
  },
  {
   "cell_type": "code",
   "execution_count": 6,
   "id": "26889fa7",
   "metadata": {},
   "outputs": [],
   "source": [
    "convertir = pd.read_excel('ModalidaClases.xlsx')"
   ]
  },
  {
   "cell_type": "code",
   "execution_count": 8,
   "id": "8ce8a25e",
   "metadata": {},
   "outputs": [],
   "source": [
    "convertir.to_csv('estudiantes.csv', index=None, header=True)"
   ]
  },
  {
   "cell_type": "code",
   "execution_count": 9,
   "id": "0ec5908b",
   "metadata": {},
   "outputs": [],
   "source": [
    "df = pd.read_csv('estudiantes.csv')"
   ]
  },
  {
   "cell_type": "code",
   "execution_count": 11,
   "id": "2f437bc6",
   "metadata": {},
   "outputs": [
    {
     "data": {
      "text/html": [
       "<div>\n",
       "<style scoped>\n",
       "    .dataframe tbody tr th:only-of-type {\n",
       "        vertical-align: middle;\n",
       "    }\n",
       "\n",
       "    .dataframe tbody tr th {\n",
       "        vertical-align: top;\n",
       "    }\n",
       "\n",
       "    .dataframe thead th {\n",
       "        text-align: right;\n",
       "    }\n",
       "</style>\n",
       "<table border=\"1\" class=\"dataframe\">\n",
       "  <thead>\n",
       "    <tr style=\"text-align: right;\">\n",
       "      <th></th>\n",
       "      <th>NOMBRE</th>\n",
       "      <th>EDAD</th>\n",
       "      <th>GENERO</th>\n",
       "      <th>CARRERA</th>\n",
       "      <th>SEMESTRE</th>\n",
       "    </tr>\n",
       "  </thead>\n",
       "  <tbody>\n",
       "    <tr>\n",
       "      <th>0</th>\n",
       "      <td>Jairo</td>\n",
       "      <td>28</td>\n",
       "      <td>M</td>\n",
       "      <td>Informatica</td>\n",
       "      <td>Primero</td>\n",
       "    </tr>\n",
       "    <tr>\n",
       "      <th>1</th>\n",
       "      <td>Jarez</td>\n",
       "      <td>28</td>\n",
       "      <td>M</td>\n",
       "      <td>Informatica</td>\n",
       "      <td>Primero</td>\n",
       "    </tr>\n",
       "    <tr>\n",
       "      <th>2</th>\n",
       "      <td>Ailen</td>\n",
       "      <td>2</td>\n",
       "      <td>F</td>\n",
       "      <td>Medicina</td>\n",
       "      <td>Primero</td>\n",
       "    </tr>\n",
       "    <tr>\n",
       "      <th>3</th>\n",
       "      <td>Juvel</td>\n",
       "      <td>25</td>\n",
       "      <td>F</td>\n",
       "      <td>Dibujo</td>\n",
       "      <td>Quinto</td>\n",
       "    </tr>\n",
       "    <tr>\n",
       "      <th>4</th>\n",
       "      <td>Sara</td>\n",
       "      <td>38</td>\n",
       "      <td>F</td>\n",
       "      <td>Ventas</td>\n",
       "      <td>Cuarto</td>\n",
       "    </tr>\n",
       "    <tr>\n",
       "      <th>5</th>\n",
       "      <td>Sofia</td>\n",
       "      <td>44</td>\n",
       "      <td>F</td>\n",
       "      <td>Derecho</td>\n",
       "      <td>Segundo</td>\n",
       "    </tr>\n",
       "  </tbody>\n",
       "</table>\n",
       "</div>"
      ],
      "text/plain": [
       "  NOMBRE  EDAD GENERO      CARRERA SEMESTRE\n",
       "0  Jairo    28      M  Informatica  Primero\n",
       "1  Jarez    28      M  Informatica  Primero\n",
       "2  Ailen     2      F     Medicina  Primero\n",
       "3  Juvel    25      F       Dibujo   Quinto\n",
       "4   Sara    38      F       Ventas   Cuarto\n",
       "5  Sofia    44      F      Derecho  Segundo"
      ]
     },
     "execution_count": 11,
     "metadata": {},
     "output_type": "execute_result"
    }
   ],
   "source": [
    "df"
   ]
  }
 ],
 "metadata": {
  "kernelspec": {
   "display_name": "Python 3 (ipykernel)",
   "language": "python",
   "name": "python3"
  },
  "language_info": {
   "codemirror_mode": {
    "name": "ipython",
    "version": 3
   },
   "file_extension": ".py",
   "mimetype": "text/x-python",
   "name": "python",
   "nbconvert_exporter": "python",
   "pygments_lexer": "ipython3",
   "version": "3.11.5"
  }
 },
 "nbformat": 4,
 "nbformat_minor": 5
}
